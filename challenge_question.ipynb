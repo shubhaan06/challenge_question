{
  "nbformat": 4,
  "nbformat_minor": 0,
  "metadata": {
    "colab": {
      "provenance": [],
      "authorship_tag": "ABX9TyPvw+u/6LSbgOSRAOdoQm/I",
      "include_colab_link": true
    },
    "kernelspec": {
      "name": "python3",
      "display_name": "Python 3"
    },
    "language_info": {
      "name": "python"
    }
  },
  "cells": [
    {
      "cell_type": "markdown",
      "metadata": {
        "id": "view-in-github",
        "colab_type": "text"
      },
      "source": [
        "<a href=\"https://colab.research.google.com/github/shubhaan06/challenge_question/blob/main/challenge_question.ipynb\" target=\"_parent\"><img src=\"https://colab.research.google.com/assets/colab-badge.svg\" alt=\"Open In Colab\"/></a>"
      ]
    },
    {
      "cell_type": "code",
      "execution_count": 5,
      "metadata": {
        "colab": {
          "base_uri": "https://localhost:8080/"
        },
        "id": "vbr0jqQIsvfT",
        "outputId": "566c146b-2e0a-4001-d03b-0a705ec19f89"
      },
      "outputs": [
        {
          "output_type": "stream",
          "name": "stdout",
          "text": [
            "['1', '2', '3', 'aman', 'ram', 'shyam']\n",
            "[1, 2, 3, 'aman', 'ram', 'shyam']\n"
          ]
        }
      ],
      "source": [
        "L=[\"ram\",1,\"shyam\",2,\"aman\",3]\n",
        "L=[str(i) for i in L]\n",
        "L.sort()\n",
        "print(L)\n",
        "L1=[]\n",
        "for i in L:\n",
        "    try:\n",
        "      L1.append(int(i))\n",
        "    except:\n",
        "      L1.append(i)\n",
        "print(L1)"
      ]
    }
  ]
}